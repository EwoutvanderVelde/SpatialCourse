{
 "cells": [
  {
   "cell_type": "code",
   "execution_count": 9,
   "id": "a812d022",
   "metadata": {},
   "outputs": [],
   "source": [
    "import pandas as pd"
   ]
  },
  {
   "attachments": {},
   "cell_type": "markdown",
   "id": "09ae9c6c",
   "metadata": {},
   "source": [
    "# IMPORT DATA\n",
    "We import the results from the SpatialRandomForest ran in R, and add it to a object in Python"
   ]
  },
  {
   "cell_type": "code",
   "execution_count": 10,
   "id": "bdf63203",
   "metadata": {},
   "outputs": [],
   "source": [
    "def read_csv(run:int, object:str, dropIndex=True)->pd.DataFrame:\n",
    "    \"\"\"\n",
    "    Small to read in a csv with or without indexcolumn\n",
    "    \"\"\"\n",
    "    if dropIndex:\n",
    "        return pd.read_csv(f\"data/trees/{str(run)}{object}.csv\").drop(columns=[\"Unnamed: 0\"])\n",
    "    else:\n",
    "        return pd.read_csv(f\"data/trees/{str(run)}{object}.csv\")"
   ]
  },
  {
   "cell_type": "code",
   "execution_count": 11,
   "id": "470b6ea3",
   "metadata": {},
   "outputs": [],
   "source": [
    "\"\"\"\n",
    "Some classes were made to reconstruc the repeated randomforest model from R. \n",
    "This is because we wanted to plot results in Python and we had trouble loading the model back in R\n",
    "\"\"\"\n",
    "\n",
    "class residualsClass:\n",
    "    def __init__(self, run):\n",
    "        self.values = read_csv(run, \"residuals_values\").rename(columns={\"x\":\"values\"})\n",
    "        self.values_median = read_csv(run, \"residuals_values_median\")\n",
    "        self.values_repetitions = read_csv(run, \"residuals_values_repetitions\")\n",
    "\n",
    "class evaluationClass:\n",
    "    def __init__(self, run):\n",
    "        self.PLACEHOLDER = 0\n",
    "\n",
    "class predictionClass:\n",
    "    def __init__(self, run):\n",
    "        self.values = read_csv(run, \"predictions_values\").rename(columns={\"x\":\"values\"})\n",
    "        self.values_per_repetion = read_csv(run, \"prediction_values_per_repetition\")\n",
    "        self.values_median = read_csv(run, \"prediction_values_median\")\n",
    "\n",
    "class importanceClass:\n",
    "    def __init__(self, run):\n",
    "        self.per_variable = read_csv(run, \"importance_per_variable\")\n",
    "        self.per_repetition = read_csv(run, \"importance_per_repetition\")\n",
    "        self.local = read_csv(run, \"importance_local\")\n",
    "\n"
   ]
  },
  {
   "cell_type": "code",
   "execution_count": 12,
   "id": "ffd6e751",
   "metadata": {},
   "outputs": [],
   "source": [
    "class SpatialRandomForestRepeat:\n",
    "    def __init__(self, run):\n",
    "        self.run = run\n",
    "        self.num_trees = read_csv(run, \"num_trees\").iloc[0,0]\n",
    "        self.num_independent_variables = read_csv(run, \"num_independent_variables\").iloc[0,0]\n",
    "        self.mtry = read_csv(run, \"mtry\").iloc[0,0]\n",
    "        self.min_node_size = read_csv(run, \"min_node_size\").iloc[0,0]\n",
    "        self.variable_importance = read_csv(run, \"variable_importance\")\n",
    "        self.variable_importance_local = read_csv(run, \"variable_importance_local\")\n",
    "        self.prediction_error = read_csv(run, \"prediction_error\").iloc[0,0]\n",
    "        self.r_squared = read_csv(run, \"r_squared\").iloc[0,0]\n",
    "        self.num_samples = read_csv(run, \"num_samples\").iloc[0,0]\n",
    "        self.performance = read_csv(run, \"performance\")\n",
    "        self.residuals = residualsClass(run)\n",
    "        self.evaluation = evaluationClass(run)\n",
    "        self.predictions = predictionClass(run)\n",
    "        self.importance = importanceClass(run)\n",
    "\n",
    "    def info(self):\n",
    "        print(f\"---------------------------\\n\" \\\n",
    "              f\"Model from run: {self.run} \\n\"\\\n",
    "              f\"num_trees: {self.num_trees} \\n\"\\\n",
    "              f\"mtry: {self.mtry} \\n\"\\\n",
    "              f\"num_samples: {self.num_samples} \\n\"\n",
    "              f\"repetitions: {len(self.predictions.values_per_repetion.columns)} \\n\")\n",
    "\n",
    "treeResult = SpatialRandomForestRepeat(run=10)\n"
   ]
  },
  {
   "attachments": {},
   "cell_type": "markdown",
   "id": "d4fd8094",
   "metadata": {},
   "source": [
    "# Retrieve importance scores\n",
    "For the final report we decided only to use the importance scores. So we will save these to a new file"
   ]
  },
  {
   "cell_type": "code",
   "execution_count": 13,
   "id": "a9f7fde5",
   "metadata": {},
   "outputs": [],
   "source": [
    "imp = treeResult.importance.per_variable.copy()\n",
    "\n",
    "def keep(x:list[str])->bool:\n",
    "    if \"spatial_predictor\" in x[0]:\n",
    "        return False\n",
    "    else:\n",
    "        return True\n",
    "\n",
    "imp[\"keep\"] = imp.apply(lambda x: keep(x), axis = 1)\n",
    "imp = imp[imp[\"keep\"]].drop(columns=[\"keep\"])\n",
    "imp[\"importance\"] = imp[\"importance\"].abs()\n",
    "\n",
    "imp.to_csv(\"data/Tree_importance.csv\", index=False)"
   ]
  }
 ],
 "metadata": {
  "kernelspec": {
   "display_name": "Python 3 (ipykernel)",
   "language": "python",
   "name": "python3"
  },
  "language_info": {
   "codemirror_mode": {
    "name": "ipython",
    "version": 3
   },
   "file_extension": ".py",
   "mimetype": "text/x-python",
   "name": "python",
   "nbconvert_exporter": "python",
   "pygments_lexer": "ipython3",
   "version": "3.10.9"
  }
 },
 "nbformat": 4,
 "nbformat_minor": 5
}
